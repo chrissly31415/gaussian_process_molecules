{
 "cells": [
  {
   "cell_type": "markdown",
   "id": "6322d412-6afc-4395-aa90-9628ed1afdc7",
   "metadata": {},
   "source": [
    "https://towardsdatascience.com/getting-started-with-gaussian-process-regression-modeling-47e7982b534d"
   ]
  },
  {
   "cell_type": "code",
   "execution_count": 100,
   "id": "616879db-eab6-4663-9f9d-73c8f368099d",
   "metadata": {},
   "outputs": [],
   "source": [
    "from sklearn.model_selection import train_test_split\n",
    "import pandas as pd\n",
    "from rdkit import Chem\n",
    "import numpy as np\n",
    "import matplotlib.pyplot as plt\n",
    "from sklearn.metrics import r2_score, mean_absolute_error\n",
    "from sklearn.gaussian_process import GaussianProcessRegressor\n",
    "from sklearn.gaussian_process.kernels import RBF, ConstantKernel, WhiteKernel\n",
    "\n",
    "import plotly.express as px\n",
    "\n",
    "from mordred import Chi, ABCIndex, RingCount, Calculator,MoeType,AcidBase\n",
    "from mordred import Calculator, descriptors"
   ]
  },
  {
   "cell_type": "code",
   "execution_count": 77,
   "id": "979a42c4-550c-43e6-bc32-9f929b43c69c",
   "metadata": {},
   "outputs": [
    {
     "name": "stdout",
     "output_type": "stream",
     "text": [
      "(mordred.MoeType.LabuteASA(), mordred.MoeType.PEOE_VSA(1), mordred.MoeType.PEOE_VSA(2), mordred.MoeType.PEOE_VSA(3), mordred.MoeType.PEOE_VSA(4), mordred.MoeType.PEOE_VSA(5), mordred.MoeType.PEOE_VSA(6), mordred.MoeType.PEOE_VSA(7), mordred.MoeType.PEOE_VSA(8), mordred.MoeType.PEOE_VSA(9), mordred.MoeType.PEOE_VSA(10), mordred.MoeType.PEOE_VSA(11), mordred.MoeType.PEOE_VSA(12), mordred.MoeType.PEOE_VSA(13), mordred.MoeType.SMR_VSA(1), mordred.MoeType.SMR_VSA(2), mordred.MoeType.SMR_VSA(3), mordred.MoeType.SMR_VSA(4), mordred.MoeType.SMR_VSA(5), mordred.MoeType.SMR_VSA(6), mordred.MoeType.SMR_VSA(7), mordred.MoeType.SMR_VSA(8), mordred.MoeType.SMR_VSA(9), mordred.MoeType.SlogP_VSA(1), mordred.MoeType.SlogP_VSA(2), mordred.MoeType.SlogP_VSA(3), mordred.MoeType.SlogP_VSA(4), mordred.MoeType.SlogP_VSA(5), mordred.MoeType.SlogP_VSA(6), mordred.MoeType.SlogP_VSA(7), mordred.MoeType.SlogP_VSA(8), mordred.MoeType.SlogP_VSA(9), mordred.MoeType.SlogP_VSA(10), mordred.MoeType.SlogP_VSA(11), mordred.MoeType.EState_VSA(1), mordred.MoeType.EState_VSA(2), mordred.MoeType.EState_VSA(3), mordred.MoeType.EState_VSA(4), mordred.MoeType.EState_VSA(5), mordred.MoeType.EState_VSA(6), mordred.MoeType.EState_VSA(7), mordred.MoeType.EState_VSA(8), mordred.MoeType.EState_VSA(9), mordred.MoeType.EState_VSA(10), mordred.MoeType.VSA_EState(1), mordred.MoeType.VSA_EState(2), mordred.MoeType.VSA_EState(3), mordred.MoeType.VSA_EState(4), mordred.MoeType.VSA_EState(5), mordred.MoeType.VSA_EState(6), mordred.MoeType.VSA_EState(7), mordred.MoeType.VSA_EState(8), mordred.MoeType.VSA_EState(9), mordred.AcidBase.AcidicGroupCount(), mordred.AcidBase.BasicGroupCount())\n"
     ]
    }
   ],
   "source": [
    "\n",
    "n_all = len(Calculator(descriptors, ignore_3D=False).descriptors)\n",
    "n_2D = len(Calculator(descriptors, ignore_3D=True).descriptors)\n",
    "n_all, n_2D\n",
    "#calc = Calculator(descriptors, ignore_3D=True)\n",
    "calc = Calculator()\n",
    "# Register descriptor instance\n",
    "#calc.register(Chi)\n",
    "#calc.register(RingCount.RingCount)\n",
    "#calc.register(ABCIndex)\n",
    "calc.register(MoeType)\n",
    "calc.register(AcidBase)\n",
    "print(calc.descriptors)"
   ]
  },
  {
   "cell_type": "code",
   "execution_count": 78,
   "id": "34023ffc-e5a5-49c6-beb0-0d3bf898ee1f",
   "metadata": {},
   "outputs": [
    {
     "data": {
      "text/html": [
       "<div>\n",
       "<style scoped>\n",
       "    .dataframe tbody tr th:only-of-type {\n",
       "        vertical-align: middle;\n",
       "    }\n",
       "\n",
       "    .dataframe tbody tr th {\n",
       "        vertical-align: top;\n",
       "    }\n",
       "\n",
       "    .dataframe thead th {\n",
       "        text-align: right;\n",
       "    }\n",
       "</style>\n",
       "<table border=\"1\" class=\"dataframe\">\n",
       "  <thead>\n",
       "    <tr style=\"text-align: right;\">\n",
       "      <th></th>\n",
       "      <th>SMILES</th>\n",
       "      <th>BP</th>\n",
       "    </tr>\n",
       "  </thead>\n",
       "  <tbody>\n",
       "    <tr>\n",
       "      <th>0</th>\n",
       "      <td>C=O</td>\n",
       "      <td>-19.10</td>\n",
       "    </tr>\n",
       "    <tr>\n",
       "      <th>1</th>\n",
       "      <td>c1c2ccccc2c2ccc3cccc4ccc1c2c34</td>\n",
       "      <td>495.00</td>\n",
       "    </tr>\n",
       "    <tr>\n",
       "      <th>2</th>\n",
       "      <td>OC(=O)c1cc(Cl)ccc1Cl</td>\n",
       "      <td>301.00</td>\n",
       "    </tr>\n",
       "    <tr>\n",
       "      <th>3</th>\n",
       "      <td>C[C@H](N)Cc1ccccc1</td>\n",
       "      <td>203.00</td>\n",
       "    </tr>\n",
       "    <tr>\n",
       "      <th>4</th>\n",
       "      <td>CCOC(N)=O</td>\n",
       "      <td>185.00</td>\n",
       "    </tr>\n",
       "    <tr>\n",
       "      <th>...</th>\n",
       "      <td>...</td>\n",
       "      <td>...</td>\n",
       "    </tr>\n",
       "    <tr>\n",
       "      <th>4073</th>\n",
       "      <td>CCCOC(=O)c1cocc1</td>\n",
       "      <td>210.90</td>\n",
       "    </tr>\n",
       "    <tr>\n",
       "      <th>4074</th>\n",
       "      <td>CCC(O)CCC(F)(F)F</td>\n",
       "      <td>140.65</td>\n",
       "    </tr>\n",
       "    <tr>\n",
       "      <th>4075</th>\n",
       "      <td>FC(F)(Cl)C(F)(F)C(F)(F)C(F)(F)C(F)(F)C(F)(F)C(...</td>\n",
       "      <td>151.00</td>\n",
       "    </tr>\n",
       "    <tr>\n",
       "      <th>4076</th>\n",
       "      <td>FC(F)(Br)C(F)(F)C(F)(F)C(F)(F)C(F)(F)C(F)(F)C(...</td>\n",
       "      <td>159.00</td>\n",
       "    </tr>\n",
       "    <tr>\n",
       "      <th>0</th>\n",
       "      <td>O</td>\n",
       "      <td>100.00</td>\n",
       "    </tr>\n",
       "  </tbody>\n",
       "</table>\n",
       "<p>4078 rows × 2 columns</p>\n",
       "</div>"
      ],
      "text/plain": [
       "                                                 SMILES      BP\n",
       "0                                                   C=O  -19.10\n",
       "1                        c1c2ccccc2c2ccc3cccc4ccc1c2c34  495.00\n",
       "2                                  OC(=O)c1cc(Cl)ccc1Cl  301.00\n",
       "3                                    C[C@H](N)Cc1ccccc1  203.00\n",
       "4                                             CCOC(N)=O  185.00\n",
       "...                                                 ...     ...\n",
       "4073                                   CCCOC(=O)c1cocc1  210.90\n",
       "4074                                   CCC(O)CCC(F)(F)F  140.65\n",
       "4075  FC(F)(Cl)C(F)(F)C(F)(F)C(F)(F)C(F)(F)C(F)(F)C(...  151.00\n",
       "4076  FC(F)(Br)C(F)(F)C(F)(F)C(F)(F)C(F)(F)C(F)(F)C(...  159.00\n",
       "0                                                     O  100.00\n",
       "\n",
       "[4078 rows x 2 columns]"
      ]
     },
     "execution_count": 78,
     "metadata": {},
     "output_type": "execute_result"
    }
   ],
   "source": [
    "df = pd.read_csv(r\"/NEWDATA/moldata/opera_physprop/OPERA_BP/TR_BP_4077.csv\")\n",
    "df_test = pd.read_csv(r\"/NEWDATA/moldata/opera_physprop/OPERA_BP/TST_BP_1358.csv\")\n",
    "df_add = pd.DataFrame([{\"SMILES\": \"O\", \"BP\": 100}])\n",
    "df = pd.concat([df,df_add],axis=0)\n",
    "df"
   ]
  },
  {
   "cell_type": "code",
   "execution_count": 79,
   "id": "c774a9dd-0a47-4737-8b7c-3de90058e46b",
   "metadata": {},
   "outputs": [],
   "source": [
    "def compute_descriptors(df, smiles_column='SMILES', target_column=None):\n",
    "    \"\"\"\n",
    "    Computes molecular descriptors \n",
    "    \n",
    "    Parameters:\n",
    "    - df (pandas.DataFrame): The input DataFrame containing SMILES strings and target values.\n",
    "    - smiles_column (str): The name of the column in `df` that contains the SMILES strings. Default is 'SMILES'.\n",
    "    - target_column (str): The name of the column in `df` that contains the target values. Default is 'BP'.\n",
    "\n",
    "    Returns:\n",
    "    - X (numpy.ndarray): A NumPy array of computed descriptors with NaN columns removed.\n",
    "    - y (pandas.Series): The target values corresponding to each row in `X`.\n",
    "    \"\"\"\n",
    "    # Assuming calc is a function or callable object that computes descriptors for an RDKit molecule\n",
    "    mols = [Chem.MolFromSmiles(smi) for smi in df[smiles_column]]\n",
    "    X = [calc(mol) for mol in mols]\n",
    "    X = np.array(X).astype(np.float64)\n",
    "    if target_column: \n",
    "        y = df[target_column]\n",
    "    else: \n",
    "        y = None\n",
    "\n",
    "    nan_dims = []\n",
    "    for i in range(len(X)):\n",
    "        nan_indices = list(np.where(np.isnan(X[i, :]))[0])\n",
    "        for dim in nan_indices:\n",
    "            if dim not in nan_dims:\n",
    "                nan_dims.append(dim)\n",
    "\n",
    "    X = np.delete(X, nan_dims, axis=1)\n",
    "    \n",
    "    return X, y\n"
   ]
  },
  {
   "cell_type": "code",
   "execution_count": 80,
   "id": "0658cea9-fc1f-4b33-84a4-02dbd4d5ebfc",
   "metadata": {},
   "outputs": [
    {
     "name": "stdout",
     "output_type": "stream",
     "text": [
      "CPU times: user 3.01 s, sys: 0 ns, total: 3.01 s\n",
      "Wall time: 4.07 s\n"
     ]
    }
   ],
   "source": [
    "%%time\n",
    "X, y = compute_descriptors(df,target_column='BP')"
   ]
  },
  {
   "cell_type": "code",
   "execution_count": 81,
   "id": "717e65c2-2fa6-497c-9c65-55b986d66181",
   "metadata": {},
   "outputs": [],
   "source": [
    "X_train, X_test, y_train, y_test = train_test_split(X, y, test_size=0.2)"
   ]
  },
  {
   "cell_type": "code",
   "execution_count": 82,
   "id": "a74868c1-ab38-4a84-984c-9c73e1689cb9",
   "metadata": {},
   "outputs": [
    {
     "name": "stdout",
     "output_type": "stream",
     "text": [
      "CPU times: user 13min 56s, sys: 16min 19s, total: 30min 16s\n",
      "Wall time: 3min 42s\n"
     ]
    }
   ],
   "source": [
    "%%time\n",
    "kernel = ConstantKernel(1.0) + ConstantKernel(1.0) * RBF(10)  + WhiteKernel(5)\n",
    "model = GaussianProcessRegressor(kernel=kernel)\n",
    "model.fit(X_train, y_train)\n",
    "y_pred_tr, y_pred_tr_std = model.predict(X_train, return_std=True)"
   ]
  },
  {
   "cell_type": "code",
   "execution_count": 83,
   "id": "21189c74-980c-4a1c-8627-911e5e5590f4",
   "metadata": {},
   "outputs": [
    {
     "data": {
      "image/png": "[encoded data removed]",
      "text/plain": [
       "<Figure size 640x480 with 1 Axes>"
      ]
     },
     "metadata": {},
     "output_type": "display_data"
    }
   ],
   "source": [
    "def evaluate(model, X_test,y_test):\n",
    "    y_pred_te, y_pred_te_std = model.predict(X_test, return_std=True)\n",
    "    plt.figure()\n",
    "    plt.errorbar(y_test, y_pred_te, yerr=y_pred_te_std, fmt='o')\n",
    "    r2 = r2_score(y_test, y_pred_te)\n",
    "    mae = mean_absolute_error(y_test, y_pred_te)\n",
    "    plt.title(f\"Gaussian process regression, mae:{mae:.1f} R2={r2:.2f}\" )\n",
    "    plt.xlabel('Actual')\n",
    "    plt.ylabel('Predicted')\n",
    "evaluate(model,X_test,y_test)"
   ]
  },
  {
   "cell_type": "code",
   "execution_count": 88,
   "id": "62c7dbf2-6483-41e8-84d8-d541379cd7a6",
   "metadata": {},
   "outputs": [
    {
     "name": "stdout",
     "output_type": "stream",
     "text": [
      "(1358, 55) (1358,)\n"
     ]
    },
    {
     "data": {
      "image/png": "[encoded data removed]",
      "text/plain": [
       "<Figure size 640x480 with 1 Axes>"
      ]
     },
     "metadata": {},
     "output_type": "display_data"
    }
   ],
   "source": [
    "Xval,yval = compute_descriptors(df_test,target_column='BP')\n",
    "print(Xval.shape,yval.shape)\n",
    "evaluate(model,Xval,yval)"
   ]
  },
  {
   "cell_type": "code",
   "execution_count": 85,
   "id": "2693d5c3-4c94-468c-b2de-c234b1ab5086",
   "metadata": {},
   "outputs": [],
   "source": [
    "# mae 12.7 R^2: 0.94\n",
    "# mae 13.3 R^2: 0.93  Moe-type, acid-base, ringcount"
   ]
  },
  {
   "cell_type": "code",
   "execution_count": 107,
   "id": "94f3285a-c649-4dd0-9499-5cd2f8e69ea8",
   "metadata": {},
   "outputs": [
    {
     "data": {
      "text/plain": [
       "(                                    SMILES  bp,predicted        +/-\n",
       " 0                                             -75.834730  16.872891\n",
       " 1                      CC(=O)Nc1ccc(cc1)OC    305.908648  16.610701\n",
       " 2              CC(=O)Nc1cc2Cc3ccccc3-c2cc1    412.483295  35.751385\n",
       " 3                           NC(=O)c1ccccc1    263.597595  16.396490\n",
       " 4     CCOP(=S)(Oc1ccc(cc1)[N+]([O-])=O)OCC    271.051323  58.814706\n",
       " 5                    CCCCCCCCCCCCCCCC(O)=O    322.674091  15.650211\n",
       " 6                                  CC(O)CO    197.504149  12.897308\n",
       " 7                              O=NN1CCOCC1    250.439225  27.204655\n",
       " 8                                    CCOCC     37.387251  12.123862\n",
       " 9                              CN1C=CNC1=S    242.726087  19.017353\n",
       " 10                           CCOS(C)(=O)=O    191.269675  15.197035\n",
       " 11                  CNC(=O)Oc1cccc2ccccc21    282.501294  24.658369\n",
       " 12                                     CCO     85.135678  11.996928\n",
       " 13                          OC(=O)c1ccccc1    247.087447  15.372273\n",
       " 14                        Cc1cc(C)[nH][n]1    206.209106  13.852693\n",
       " 15                                 CC(C)=O     51.188064  13.208004\n",
       " 16                                CN(C)C=O    150.455998  14.488970\n",
       " 17                                   CCCCO    111.382826  11.492453\n",
       " 18  COc1ccc(cc1)C(c1ccc(cc1)OC)C(Cl)(Cl)Cl    369.054087  83.471269\n",
       " 19                                       C    -24.289431  15.095489\n",
       " 20                                     C#C    -33.729875  15.874532\n",
       " 21                                     C#N     33.181648  17.900299\n",
       " 22                                   ClCBr     62.438145  12.660596\n",
       " 23                                   C=CCl     -5.443493  12.572204\n",
       " 24                                    CC#N     68.630561  13.821108\n",
       " 25                                     FCF    -35.541411  15.174178\n",
       " 26                                     CSC     29.964756  15.529005\n",
       " 27                                       O     55.382717  13.477836\n",
       " 28                                            -75.834730  16.872891,\n",
       " 'results.csv',\n",
       " None)"
      ]
     },
     "execution_count": 107,
     "metadata": {},
     "output_type": "execute_result"
    }
   ],
   "source": [
    "def predict_boiling_point(smiles_list,experiments=None):\n",
    "    smiles_list = smiles_list.split(\"\\n\")\n",
    "    mols = [Chem.MolFromSmiles(smi) for smi in smiles_list]\n",
    "    X = [calc(mol) for mol in mols]\n",
    "    X = np.array(X).astype(np.float64)\n",
    "    y_pred_te, y_pred_te_std = model.predict(X, return_std=True)\n",
    "    df = pd.DataFrame({\"SMILES\": smiles_list, \"bp,predicted\": y_pred_te, \"+/-\": y_pred_te_std})\n",
    "    fig = None\n",
    "    if experiments:\n",
    "        experiments = experiments.split(\"\\n\")\n",
    "        df['bp,exp'] = experiments\n",
    "        df['bp,exp'] = df['bp,exp'].astype(float)\n",
    "        fig = px.scatter(df, x=\"bp,predicted\", y=\"bp,exp\",  hover_data=[\"SMILES\"],\n",
    "                 error_y=\"+/-\")\n",
    "    tmpfile = \"results.csv\"\n",
    "    df.to_csv(tmpfile)\n",
    "    return df,tmpfile,fig\n",
    "compounds = \"\"\"\n",
    "CC(=O)Nc1ccc(cc1)OC\n",
    "CC(=O)Nc1cc2Cc3ccccc3-c2cc1\n",
    "NC(=O)c1ccccc1\n",
    "CCOP(=S)(Oc1ccc(cc1)[N+]([O-])=O)OCC\n",
    "CCCCCCCCCCCCCCCC(O)=O\n",
    "CC(O)CO\n",
    "O=NN1CCOCC1\n",
    "CCOCC\n",
    "CN1C=CNC1=S\n",
    "CCOS(C)(=O)=O\n",
    "CNC(=O)Oc1cccc2ccccc21\n",
    "CCO\n",
    "OC(=O)c1ccccc1\n",
    "Cc1cc(C)[nH][n]1\n",
    "CC(C)=O\n",
    "CN(C)C=O\n",
    "CCCCO\n",
    "COc1ccc(cc1)C(c1ccc(cc1)OC)C(Cl)(Cl)Cl\n",
    "C\n",
    "C#C\n",
    "C#N\n",
    "ClCBr\n",
    "C=CCl\n",
    "CC#N\n",
    "FCF\n",
    "CSC\n",
    "O\n",
    "\"\"\"\n",
    "predict_boiling_point(compounds)"
   ]
  },
  {
   "cell_type": "code",
   "execution_count": 108,
   "id": "ebcf351d-cf55-490e-bd8d-de8de422a591",
   "metadata": {},
   "outputs": [
    {
     "name": "stdout",
     "output_type": "stream",
     "text": [
      "Running on local URL:  http://127.0.0.1:7874\n",
      "\n",
      "To create a public link, set `share=True` in `launch()`.\n"
     ]
    },
    {
     "data": {
      "text/html": [
       "<div><iframe src=\"http://127.0.0.1:7874/\" width=\"100%\" height=\"500\" allow=\"autoplay; camera; microphone; clipboard-read; clipboard-write;\" frameborder=\"0\" allowfullscreen></iframe></div>"
      ],
      "text/plain": [
       "<IPython.core.display.HTML object>"
      ]
     },
     "metadata": {},
     "output_type": "display_data"
    },
    {
     "data": {
      "text/plain": []
     },
     "execution_count": 108,
     "metadata": {},
     "output_type": "execute_result"
    }
   ],
   "source": [
    "import gradio as gr\n",
    "demo = gr.Interface(\n",
    "    fn=predict_boiling_point,\n",
    "    inputs=[gr.TextArea(),gr.TextArea()],\n",
    "    outputs=[gr.DataFrame(),gr.File(),gr.Plot()],\n",
    ")\n",
    "demo.launch()"
   ]
  },
  {
   "cell_type": "code",
   "execution_count": null,
   "id": "698fe37c-fa33-4750-b49b-74ff13e95e00",
   "metadata": {},
   "outputs": [],
   "source": []
  }
 ],
 "metadata": {
  "kernelspec": {
   "display_name": "Python 3 (ipykernel)",
   "language": "python",
   "name": "python3"
  },
  "language_info": {
   "codemirror_mode": {
    "name": "ipython",
    "version": 3
   },
   "file_extension": ".py",
   "mimetype": "text/x-python",
   "name": "python",
   "nbconvert_exporter": "python",
   "pygments_lexer": "ipython3",
   "version": "3.10.13"
  }
 },
 "nbformat": 4,
 "nbformat_minor": 5
}
